{
 "cells": [
  {
   "cell_type": "code",
   "execution_count": 1,
   "id": "37ba4e60",
   "metadata": {},
   "outputs": [
    {
     "name": "stdout",
     "output_type": "stream",
     "text": [
      "--2021-05-25 00:10:50--  http://d28rh4a8wq0iu5.cloudfront.net/ads1/code/bm_preproc.py\n",
      "Resolving d28rh4a8wq0iu5.cloudfront.net... 13.226.211.37, 13.226.211.214, 13.226.211.135, ...\n",
      "Connecting to d28rh4a8wq0iu5.cloudfront.net|13.226.211.37|:80... connected.\n",
      "HTTP request sent, awaiting response... 200 OK\n",
      "Length: 9400 (9.2K) [application/octet-stream]\n",
      "Saving to: 'bm_preproc.py'\n",
      "\n",
      "bm_preproc.py       100%[===================>]   9.18K  --.-KB/s    in 0s      \n",
      "\n",
      "2021-05-25 00:10:50 (25.7 MB/s) - 'bm_preproc.py' saved [9400/9400]\n",
      "\n",
      "--2021-05-25 00:10:51--  http://d28rh4a8wq0iu5.cloudfront.net/ads1/data/chr1.GRCh38.excerpt.fasta\n",
      "Resolving d28rh4a8wq0iu5.cloudfront.net... 13.226.211.214, 13.226.211.135, 13.226.211.176, ...\n",
      "Connecting to d28rh4a8wq0iu5.cloudfront.net|13.226.211.214|:80... connected.\n",
      "HTTP request sent, awaiting response... 200 OK\n",
      "Length: 810105 (791K) [application/octet-stream]\n",
      "Saving to: 'chr1.GRCh38.excerpt.fasta'\n",
      "\n",
      "chr1.GRCh38.excerpt 100%[===================>] 791.12K  1.81MB/s    in 0.4s    \n",
      "\n",
      "2021-05-25 00:10:52 (1.81 MB/s) - 'chr1.GRCh38.excerpt.fasta' saved [810105/810105]\n",
      "\n"
     ]
    }
   ],
   "source": [
    "!wget --no-check http://d28rh4a8wq0iu5.cloudfront.net/ads1/code/bm_preproc.py\n",
    "!wget --no-check http://d28rh4a8wq0iu5.cloudfront.net/ads1/data/chr1.GRCh38.excerpt.fasta"
   ]
  },
  {
   "cell_type": "code",
   "execution_count": 18,
   "id": "64262a55",
   "metadata": {},
   "outputs": [],
   "source": [
    "import bm_preproc as p_bm\n",
    "from bm_preproc import BoyerMoore"
   ]
  },
  {
   "cell_type": "code",
   "execution_count": 17,
   "id": "09cdaa69",
   "metadata": {},
   "outputs": [],
   "source": [
    "def boyer_moore_with_counts(p, p_bm, t):\n",
    "    \"\"\" Do Boyer-Moore matching. p=pattern, t=text,\n",
    "        p_bm=BoyerMoore object for p \"\"\"\n",
    "    i = 0\n",
    "    occurrences = []\n",
    "    char_count = 0\n",
    "    align_count = 0\n",
    "    while i < len(t) - len(p) + 1:\n",
    "        align_count += 1\n",
    "        shift = 1\n",
    "        mismatched = False\n",
    "        for j in range(len(p)-1, -1, -1):\n",
    "            char_count += 1\n",
    "            if p[j] != t[i+j]:\n",
    "                skip_bc = p_bm.bad_character_rule(j, t[i+j])\n",
    "                skip_gs = p_bm.good_suffix_rule(j)\n",
    "                shift = max(shift, skip_bc, skip_gs)\n",
    "                mismatched = True\n",
    "                break\n",
    "        if not mismatched:\n",
    "            occurrences.append(i)\n",
    "            skip_gs = p_bm.match_skip()\n",
    "            shift = max(shift, skip_gs)\n",
    "        i += shift\n",
    "    return occurrences, align_count, char_count"
   ]
  },
  {
   "cell_type": "code",
   "execution_count": 11,
   "id": "94c53c5f",
   "metadata": {},
   "outputs": [],
   "source": [
    "def naive_with_counts(p, t):\n",
    "    occurrences = []\n",
    "    char_count = 0\n",
    "    align_count = 0\n",
    "    for i in range(len(t) - len(p) + 1):  # loop over alignments\n",
    "        align_count += 1\n",
    "        match = True\n",
    "        for j in range(len(p)):  # loop over characters\n",
    "            char_count += 1\n",
    "            if t[i+j] != p[j]:  # compare characters\n",
    "                match = False\n",
    "                break\n",
    "        if match:\n",
    "            occurrences.append(i)  # all chars matched; record\n",
    "    return occurrences, align_count, char_count"
   ]
  },
  {
   "cell_type": "code",
   "execution_count": 21,
   "id": "4a087108",
   "metadata": {},
   "outputs": [],
   "source": [
    "def readGenome(filename):\n",
    "    genome = ''\n",
    "    with open(filename, 'r') as f:\n",
    "        for line in f:\n",
    "            # ignore header line with genome information\n",
    "            if not line[0] == '>':\n",
    "                genome += line.rstrip()\n",
    "    return genome"
   ]
  },
  {
   "cell_type": "code",
   "execution_count": 189,
   "id": "6b394db6",
   "metadata": {},
   "outputs": [
    {
     "name": "stdout",
     "output_type": "stream",
     "text": [
      "[56922] 799954 984143\n"
     ]
    }
   ],
   "source": [
    "p = 'GGCGCGGTGGCTCACGCCTGTAATCCCAGCACTTTGGGAGGCCGAGG'\n",
    "t = readGenome('chr1.GRCh38.excerpt.fasta')\n",
    "p_bm = BoyerMoore(p, 'AGCT')\n",
    "occurrences, num_alignments, num_character_comparisons = naive_with_counts(p, t)\n",
    "print(occurrences, num_alignments, num_character_comparisons)"
   ]
  },
  {
   "cell_type": "code",
   "execution_count": 25,
   "id": "2350224c",
   "metadata": {},
   "outputs": [
    {
     "name": "stdout",
     "output_type": "stream",
     "text": [
      "--2021-05-25 00:42:54--  https://d28rh4a8wq0iu5.cloudfront.net/ads1/code/kmer_index.py\n",
      "Resolving d28rh4a8wq0iu5.cloudfront.net... 13.226.211.135, 13.226.211.176, 13.226.211.37, ...\n",
      "Connecting to d28rh4a8wq0iu5.cloudfront.net|13.226.211.135|:443... connected.\n",
      "HTTP request sent, awaiting response... 200 OK\n",
      "Length: 971 [application/octet-stream]\n",
      "Saving to: 'kmer_index.py'\n",
      "\n",
      "kmer_index.py       100%[===================>]     971  --.-KB/s    in 0s      \n",
      "\n",
      "2021-05-25 00:42:55 (66.1 MB/s) - 'kmer_index.py' saved [971/971]\n",
      "\n"
     ]
    }
   ],
   "source": [
    "!wget --no-check https://d28rh4a8wq0iu5.cloudfront.net/ads1/code/kmer_index.py"
   ]
  },
  {
   "cell_type": "code",
   "execution_count": 81,
   "id": "8993219d",
   "metadata": {},
   "outputs": [],
   "source": [
    "import bisect\n",
    "class Index(object):\n",
    "    def __init__(self, t, k):\n",
    "        ''' Create index from all substrings of size 'length' '''\n",
    "        self.k = k  # k-mer length (k)\n",
    "        self.index = []\n",
    "        for i in range(len(t) - k + 1):  # for each k-mer\n",
    "            self.index.append((t[i:i+k], i))  # add (k-mer, offset) pair\n",
    "        self.index.sort()  # alphabetize by k-mer\n",
    "    \n",
    "    def query(self, p):\n",
    "        ''' Return index hits for first k-mer of P '''\n",
    "        kmer = p[:self.k]  # query with first k-mer\n",
    "        i = bisect.bisect_left(self.index, (kmer, -1))  # binary search\n",
    "        hits = []\n",
    "        while i < len(self.index):  # collect matching index entries\n",
    "            if self.index[i][0] != kmer:\n",
    "                break\n",
    "            hits.append(self.index[i][1])\n",
    "            i += 1\n",
    "        return hits"
   ]
  },
  {
   "cell_type": "code",
   "execution_count": 190,
   "id": "1a2ed7b5",
   "metadata": {},
   "outputs": [],
   "source": [
    "def approximate_match(p, t, n):\n",
    "    seg_len = int(round(len(p) / (n+1)))\n",
    "    all_matches = set()\n",
    "    index_hits = 0\n",
    "    for i in range(n+1):\n",
    "        start = i*seg_len\n",
    "        end = min((i+1)*seg_len, len(p))\n",
    "        index = Index(t, 8)\n",
    "        matches = index.query(p[start:end])\n",
    "        index_hits += len(matches)\n",
    "        for m in matches:\n",
    "            if (m - start) < 0 or m-start+len(p) > len(t):\n",
    "                continue            \n",
    "            mismatches = 0\n",
    "            for j in range(0,start):\n",
    "                if p[j] != t[m-start+j]:\n",
    "                    mismatches += 1\n",
    "                    if mismatches > n:\n",
    "                        break\n",
    "            for k in range(end,len(p)):\n",
    "                if p[k] != t[m-start+k]:\n",
    "                    mismatches += 1\n",
    "                    if mismatches > n:\n",
    "                        break\n",
    "            if mismatches <= n:\n",
    "                all_matches.add(m-start)\n",
    "    return list(all_matches), index_hits"
   ]
  },
  {
   "cell_type": "code",
   "execution_count": 185,
   "id": "ecfe3f93",
   "metadata": {},
   "outputs": [],
   "source": [
    "def naive_2mm(p, t):\n",
    "    occurrences = []\n",
    "    for i in range(len(t) - len(p) + 1):  # loop over alignments\n",
    "        match = True\n",
    "        mm = 0\n",
    "        for j in range(len(p)):  # loop over characters\n",
    "            if t[i+j] != p[j]:  # compare characters\n",
    "                mm += 1\n",
    "                if mm > 2:\n",
    "                    match = False\n",
    "                    break\n",
    "        if match:\n",
    "            occurrences.append(i)  # all chars matched; record\n",
    "    return occurrences"
   ]
  },
  {
   "cell_type": "code",
   "execution_count": 191,
   "id": "288e4fe5",
   "metadata": {},
   "outputs": [
    {
     "data": {
      "text/plain": [
       "90"
      ]
     },
     "execution_count": 191,
     "metadata": {},
     "output_type": "execute_result"
    }
   ],
   "source": [
    "p = 'GGCGCGGTGGCTCACGCCTGTAAT'\n",
    "approximate_match(p, t, 2)[1]"
   ]
  },
  {
   "cell_type": "code",
   "execution_count": 192,
   "id": "2b4e2713",
   "metadata": {},
   "outputs": [],
   "source": [
    "class SubseqIndex(object):\n",
    "    \"\"\" Holds a subsequence index for a text T \"\"\"\n",
    "    \n",
    "    def __init__(self, t, k, ival):\n",
    "        \"\"\" Create index from all subsequences consisting of k characters\n",
    "            spaced ival positions apart.  E.g., SubseqIndex(\"ATAT\", 2, 2)\n",
    "            extracts (\"AA\", 0) and (\"TT\", 1). \"\"\"\n",
    "        self.k = k  # num characters per subsequence extracted\n",
    "        self.ival = ival  # space between them; 1=adjacent, 2=every other, etc\n",
    "        self.index = []\n",
    "        self.span = 1 + ival * (k - 1)\n",
    "        for i in range(len(t) - self.span + 1):  # for each subseq\n",
    "            self.index.append((t[i:i+self.span:ival], i))  # add (subseq, offset)\n",
    "        self.index.sort()  # alphabetize by subseq\n",
    "        \n",
    "    def query(self, p):\n",
    "        \"\"\" Return index hits for first subseq of p \"\"\"\n",
    "        subseq = p[:self.span:self.ival]  # query with first subseq\n",
    "        i = bisect.bisect_left(self.index, (subseq, -1))  # binary search\n",
    "        hits = []\n",
    "        while i < len(self.index):  # collect matching index entries\n",
    "            if self.index[i][0] != subseq:\n",
    "                break\n",
    "            hits.append(self.index[i][1])\n",
    "            i += 1\n",
    "        return hits"
   ]
  },
  {
   "cell_type": "code",
   "execution_count": 198,
   "id": "72823be2",
   "metadata": {},
   "outputs": [],
   "source": [
    "def query_subseq(p, t, subseq_ind):\n",
    "    segment_length = int(round(len(p) / subseq_ind.ival))\n",
    "    all_matches = set()\n",
    "    idx_hits = 0\n",
    "    for i in range(subseq_ind.ival):\n",
    "        start = i\n",
    "        matches = subseq_ind.query(p[start:])\n",
    "        idx_hits += len(matches)\n",
    "        # Extend matching segments to see if whole p matches\n",
    "        for m in matches:\n",
    "            if m < start or m - start + len(p) > len(t):\n",
    "                continue\n",
    "\n",
    "            mismatches = 0\n",
    "            for j in range(0, len(p)):\n",
    "                if not p[j] == t[m - start + j]:\n",
    "                    mismatches += 1\n",
    "                    if mismatches >= subseq_ind.ival:\n",
    "                        break\n",
    "\n",
    "            if mismatches < subseq_ind.ival:\n",
    "                all_matches.add(m - start)\n",
    "    return list(all_matches), idx_hits"
   ]
  },
  {
   "cell_type": "code",
   "execution_count": 199,
   "id": "c4ebab00",
   "metadata": {},
   "outputs": [],
   "source": [
    "ind = SubseqIndex(t, 8, 3)"
   ]
  },
  {
   "cell_type": "code",
   "execution_count": 201,
   "id": "7c48a144",
   "metadata": {},
   "outputs": [
    {
     "data": {
      "text/plain": [
       "79"
      ]
     },
     "execution_count": 201,
     "metadata": {},
     "output_type": "execute_result"
    }
   ],
   "source": [
    "p = 'GGCGCGGTGGCTCACGCCTGTAAT'\n",
    "query_subseq(p, t, ind)[1]"
   ]
  },
  {
   "cell_type": "code",
   "execution_count": null,
   "id": "01b67e71",
   "metadata": {},
   "outputs": [],
   "source": []
  }
 ],
 "metadata": {
  "kernelspec": {
   "display_name": "Python 3",
   "language": "python",
   "name": "python3"
  },
  "language_info": {
   "codemirror_mode": {
    "name": "ipython",
    "version": 3
   },
   "file_extension": ".py",
   "mimetype": "text/x-python",
   "name": "python",
   "nbconvert_exporter": "python",
   "pygments_lexer": "ipython3",
   "version": "3.8.8"
  }
 },
 "nbformat": 4,
 "nbformat_minor": 5
}
