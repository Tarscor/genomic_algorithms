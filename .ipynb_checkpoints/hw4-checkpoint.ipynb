{
 "cells": [
  {
   "cell_type": "code",
   "execution_count": 12,
   "id": "3f5f43c3",
   "metadata": {},
   "outputs": [],
   "source": [
    "def overlap(a, b, min_length=3):\n",
    "    \"\"\" Return length of longest suffix of 'a' matching\n",
    "        a prefix of 'b' that is at least 'min_length'\n",
    "        characters long.  If no such overlap exists,\n",
    "        return 0. \"\"\"\n",
    "    start = 0  # start all the way at the left\n",
    "    while True:\n",
    "        start = a.find(b[:min_length], start)  # look for b's suffx in a\n",
    "        if start == -1:  # no more occurrences to right\n",
    "            return 0\n",
    "        # found occurrence; check for full suffix/prefix match\n",
    "        if b.startswith(a[start:]):\n",
    "            return len(a)-start\n",
    "        start += 1  # move just past previous match\n",
    "\n",
    "import itertools\n",
    "\n",
    "def scs(ss):\n",
    "    \"\"\" Returns shortest common superstrings of given\n",
    "        strings, which must be the same length \"\"\"\n",
    "    shortest_sup = []\n",
    "    for ssperm in itertools.permutations(ss):\n",
    "        sup = ssperm[0]  # superstring starts as first string\n",
    "        for i in range(len(ss)-1):\n",
    "            # overlap adjacent strings A and B in the permutation\n",
    "            olen = overlap(ssperm[i], ssperm[i+1], min_length=1)\n",
    "            # add non-overlapping portion of B to superstring\n",
    "            sup += ssperm[i+1][olen:]\n",
    "        if len(shortest_sup) == 0 or len(sup) < len(shortest_sup[0]):\n",
    "            shortest_sup = [sup] # found shorter superstring\n",
    "        elif len(sup) == len(shortest_sup[0]) and sup not in shortest_sup:\n",
    "            shortest_sup.append(sup)\n",
    "    return shortest_sup  # return shortest"
   ]
  },
  {
   "cell_type": "code",
   "execution_count": 3,
   "id": "028ab938",
   "metadata": {},
   "outputs": [
    {
     "data": {
      "text/plain": [
       "'CCTTGGATTGC'"
      ]
     },
     "execution_count": 3,
     "metadata": {},
     "output_type": "execute_result"
    }
   ],
   "source": [
    "scs([\"CCT\",\"CTT\",\"CTT\",\"TGC\",\"TGC\",\"TGG\",\"TGG\",\"GAT\",\"GAT\",\"ATT\",\"ATT\"])[0]"
   ]
  },
  {
   "cell_type": "code",
   "execution_count": 16,
   "id": "13cd62b5",
   "metadata": {},
   "outputs": [
    {
     "data": {
      "text/plain": [
       "4"
      ]
     },
     "execution_count": 16,
     "metadata": {},
     "output_type": "execute_result"
    }
   ],
   "source": [
    "len(scs([\"CCT\",\"CTT\",\"CTT\",\"TGC\",\"TGC\",\"TGG\",\"TGG\",\"GAT\",\"GAT\",\"ATT\",\"ATT\"]))"
   ]
  },
  {
   "cell_type": "code",
   "execution_count": 5,
   "id": "35dedee6",
   "metadata": {},
   "outputs": [
    {
     "name": "stdout",
     "output_type": "stream",
     "text": [
      "--2021-05-26 17:16:21--  https://d28rh4a8wq0iu5.cloudfront.net/ads1/data/ads1_week4_reads.fq\n",
      "Resolving d28rh4a8wq0iu5.cloudfront.net... 13.226.211.176, 13.226.211.135, 13.226.211.37, ...\n",
      "Connecting to d28rh4a8wq0iu5.cloudfront.net|13.226.211.176|:443... connected.\n",
      "HTTP request sent, awaiting response... 200 OK\n",
      "Length: 395781 (387K) [video/m2ts]\n",
      "Saving to: 'ads1_week4_reads.fq'\n",
      "\n",
      "ads1_week4_reads.fq 100%[===================>] 386.50K  1.47MB/s    in 0.3s    \n",
      "\n",
      "2021-05-26 17:16:22 (1.47 MB/s) - 'ads1_week4_reads.fq' saved [395781/395781]\n",
      "\n"
     ]
    }
   ],
   "source": [
    "!wget --no-check https://d28rh4a8wq0iu5.cloudfront.net/ads1/data/ads1_week4_reads.fq"
   ]
  },
  {
   "cell_type": "code",
   "execution_count": 6,
   "id": "61c80576",
   "metadata": {},
   "outputs": [],
   "source": [
    "def readFastq(filename):\n",
    "    sequences = []\n",
    "    qualities = []\n",
    "    with open(filename) as fh:\n",
    "        while True:\n",
    "            fh.readline()  # skip name line\n",
    "            seq = fh.readline().rstrip()  # read base sequence\n",
    "            fh.readline()  # skip placeholder line\n",
    "            qual = fh.readline().rstrip() # base quality line\n",
    "            if len(seq) == 0:\n",
    "                break\n",
    "            sequences.append(seq)\n",
    "            qualities.append(qual)\n",
    "    return sequences, qualities"
   ]
  },
  {
   "cell_type": "code",
   "execution_count": 7,
   "id": "f6e382f1",
   "metadata": {},
   "outputs": [],
   "source": [
    "sequences, _ = readFastq('ads1_week4_reads.fq')"
   ]
  },
  {
   "cell_type": "code",
   "execution_count": 30,
   "id": "e411b8ae",
   "metadata": {},
   "outputs": [],
   "source": [
    "import itertools\n",
    "\n",
    "def maximal_overlap(reads, olaps, k):\n",
    "\n",
    "    readA, readB = None, None\n",
    "    best_olen = 0\n",
    "    for a,b in itertools.permutations(reads, 2):\n",
    "        if b in olaps[a[-k:]]:\n",
    "            olen = overlap(a,b,k)\n",
    "            if olen > best_olen:\n",
    "                best_olen = olen\n",
    "                readA, readB = a,b\n",
    "    return readA, readB, best_olen\n",
    "\n",
    "def greedy_scs(reads, k):    \n",
    "    olaps = {}\n",
    "    for read in reads:\n",
    "        for i in range(len(read)-k+1):\n",
    "            if read[i:i+k] not in olaps:\n",
    "                olaps[read[i:i+k]] = [read]\n",
    "            else:\n",
    "                olaps[read[i:i+k]].append(read)\n",
    "                \n",
    "    readA, readB, olen = maximal_overlap(reads, olaps, k)\n",
    "    while olen > 0:\n",
    "        reads.remove(readA)\n",
    "        reads.remove(readB)\n",
    "        reads.append(readA + readB[olen:])\n",
    "        readA, readB, olen = maximal_overlap(reads, olaps, k)\n",
    "    return ''.join(reads)"
   ]
  },
  {
   "cell_type": "code",
   "execution_count": 31,
   "id": "0d311617",
   "metadata": {},
   "outputs": [],
   "source": [
    "assembly = greedy_scs(sequences, 10)"
   ]
  },
  {
   "cell_type": "code",
   "execution_count": 32,
   "id": "cffe998b",
   "metadata": {},
   "outputs": [
    {
     "name": "stdout",
     "output_type": "stream",
     "text": [
      "Number of A's: 14441, Number of T's: 11547\n"
     ]
    }
   ],
   "source": [
    "print(\"Number of A's: {}, Number of T's: {}\".format(assembly.count('A'), assembly.count('T')))"
   ]
  },
  {
   "cell_type": "code",
   "execution_count": null,
   "id": "b7b7e15c",
   "metadata": {},
   "outputs": [],
   "source": []
  }
 ],
 "metadata": {
  "kernelspec": {
   "display_name": "Python 3",
   "language": "python",
   "name": "python3"
  },
  "language_info": {
   "codemirror_mode": {
    "name": "ipython",
    "version": 3
   },
   "file_extension": ".py",
   "mimetype": "text/x-python",
   "name": "python",
   "nbconvert_exporter": "python",
   "pygments_lexer": "ipython3",
   "version": "3.8.8"
  }
 },
 "nbformat": 4,
 "nbformat_minor": 5
}
