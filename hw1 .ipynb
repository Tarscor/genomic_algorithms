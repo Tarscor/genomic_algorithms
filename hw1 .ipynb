{
 "cells": [
  {
   "cell_type": "code",
   "execution_count": 13,
   "id": "3df54b0e",
   "metadata": {},
   "outputs": [
    {
     "name": "stdout",
     "output_type": "stream",
     "text": [
      "--2021-05-23 22:21:56--  https://d28rh4a8wq0iu5.cloudfront.net/ads1/data/lambda_virus.fa\n",
      "Resolving d28rh4a8wq0iu5.cloudfront.net... 13.226.211.135, 13.226.211.37, 13.226.211.214, ...\n",
      "Connecting to d28rh4a8wq0iu5.cloudfront.net|13.226.211.135|:443... connected.\n",
      "HTTP request sent, awaiting response... 200 OK\n",
      "Length: 49270 (48K) [application/octet-stream]\n",
      "Saving to: 'lambda_virus.fa'\n",
      "\n",
      "lambda_virus.fa     100%[===================>]  48.12K  --.-KB/s    in 0.1s    \n",
      "\n",
      "2021-05-23 22:21:57 (503 KB/s) - 'lambda_virus.fa' saved [49270/49270]\n",
      "\n"
     ]
    }
   ],
   "source": [
    "!wget --no-check https://d28rh4a8wq0iu5.cloudfront.net/ads1/data/lambda_virus.fa"
   ]
  },
  {
   "cell_type": "code",
   "execution_count": 36,
   "id": "1e57299a",
   "metadata": {},
   "outputs": [
    {
     "name": "stdout",
     "output_type": "stream",
     "text": [
      "--2021-05-23 22:38:47--  http://d396qusza40orc.cloudfront.net/ads1/data/phix.fa\n",
      "Resolving d396qusza40orc.cloudfront.net... 13.225.141.160, 13.225.141.216, 13.225.141.127, ...\n",
      "Connecting to d396qusza40orc.cloudfront.net|13.225.141.160|:80... connected.\n",
      "HTTP request sent, awaiting response... 200 OK\n",
      "Length: 5528 (5.4K) [application/octet-stream]\n",
      "Saving to: 'phix.fa'\n",
      "\n",
      "phix.fa             100%[===================>]   5.40K  --.-KB/s    in 0s      \n",
      "\n",
      "2021-05-23 22:38:47 (41.8 MB/s) - 'phix.fa' saved [5528/5528]\n",
      "\n"
     ]
    }
   ],
   "source": [
    "!wget http://d396qusza40orc.cloudfront.net/ads1/data/phix.fa"
   ]
  },
  {
   "cell_type": "code",
   "execution_count": 18,
   "id": "35878fd7",
   "metadata": {},
   "outputs": [],
   "source": [
    "def readGenome(filename):\n",
    "    genome = ''\n",
    "    with open(filename, 'r') as f:\n",
    "        for line in f:\n",
    "            # ignore header line with genome information\n",
    "            if not line[0] == '>':\n",
    "                genome += line.rstrip()\n",
    "    return genome"
   ]
  },
  {
   "cell_type": "code",
   "execution_count": 20,
   "id": "e6208af3",
   "metadata": {},
   "outputs": [],
   "source": [
    "def reverseComplement(s):\n",
    "    complement = {'A': 'T', 'C': 'G', 'G': 'C', 'T': 'A', 'N': 'N'}\n",
    "    t = ''\n",
    "    for base in s:\n",
    "        t = complement[base] + t\n",
    "    return t"
   ]
  },
  {
   "cell_type": "code",
   "execution_count": 27,
   "id": "bba6cda4",
   "metadata": {},
   "outputs": [],
   "source": [
    "def naive(p, t):\n",
    "    occurrences = []\n",
    "    repeats = 0\n",
    "    for i in range(len(t) - len(p) + 1):  # loop over alignments\n",
    "        seq = t[i:i+len(p)]\n",
    "        seq_rev = reverseComplement(t[i:i+len(p)])\n",
    "        if (seq == p) or (seq_rev == p):\n",
    "            if seq == seq_rev:\n",
    "                repeats += 1\n",
    "            occurrences.append(i)  # all chars matched; record\n",
    "    return occurrences, repeats"
   ]
  },
  {
   "cell_type": "code",
   "execution_count": 76,
   "id": "3ccf044e",
   "metadata": {},
   "outputs": [
    {
     "data": {
      "text/plain": [
       "450"
      ]
     },
     "execution_count": 76,
     "metadata": {},
     "output_type": "execute_result"
    }
   ],
   "source": [
    "genome = readGenome('lambda_virus.fa')\n",
    "occurences, repeats = naive('AGTCGA', genome)\n",
    "min(occurences)"
   ]
  },
  {
   "cell_type": "code",
   "execution_count": 51,
   "id": "70a1ec95",
   "metadata": {},
   "outputs": [],
   "source": [
    "def naive_2mm(p, t):\n",
    "    occurrences = []\n",
    "    for i in range(len(t) - len(p) + 1):  # loop over alignments\n",
    "        match = True\n",
    "        mm = 0\n",
    "        for j in range(len(p)):  # loop over characters\n",
    "            if t[i+j] != p[j]:  # compare characters\n",
    "                mm += 1\n",
    "                if mm > 2:\n",
    "                    match = False\n",
    "                    break\n",
    "        if match:\n",
    "            occurrences.append(i)  # all chars matched; record\n",
    "    return occurrences"
   ]
  },
  {
   "cell_type": "code",
   "execution_count": 78,
   "id": "0ada394f",
   "metadata": {},
   "outputs": [
    {
     "data": {
      "text/plain": [
       "49"
      ]
     },
     "execution_count": 78,
     "metadata": {},
     "output_type": "execute_result"
    }
   ],
   "source": [
    "min(naive_2mm('AGGAGGTT', readGenome('lambda_virus.fa')))"
   ]
  },
  {
   "cell_type": "code",
   "execution_count": 60,
   "id": "c371c481",
   "metadata": {},
   "outputs": [
    {
     "name": "stdout",
     "output_type": "stream",
     "text": [
      "--2021-05-23 22:51:24--  https://d28rh4a8wq0iu5.cloudfront.net/ads1/data/ERR037900_1.first1000.fastq\n",
      "Resolving d28rh4a8wq0iu5.cloudfront.net... 13.226.211.135, 13.226.211.37, 13.226.211.176, ...\n",
      "Connecting to d28rh4a8wq0iu5.cloudfront.net|13.226.211.135|:443... connected.\n",
      "HTTP request sent, awaiting response... 200 OK\n",
      "Length: 241626 (236K) [application/octet-stream]\n",
      "Saving to: 'ERR037900_1.first1000.fastq'\n",
      "\n",
      "ERR037900_1.first10 100%[===================>] 235.96K  1010KB/s    in 0.2s    \n",
      "\n",
      "2021-05-23 22:51:25 (1010 KB/s) - 'ERR037900_1.first1000.fastq' saved [241626/241626]\n",
      "\n"
     ]
    }
   ],
   "source": [
    "!wget --no-check https://d28rh4a8wq0iu5.cloudfront.net/ads1/data/ERR037900_1.first1000.fastq"
   ]
  },
  {
   "cell_type": "code",
   "execution_count": 61,
   "id": "e43ee57c",
   "metadata": {},
   "outputs": [],
   "source": [
    "def readFastq(filename):\n",
    "    sequences = []\n",
    "    qualities = []\n",
    "    with open(filename) as fh:\n",
    "        while True:\n",
    "            fh.readline()  # skip name line\n",
    "            seq = fh.readline().rstrip()  # read base sequence\n",
    "            fh.readline()  # skip placeholder line\n",
    "            qual = fh.readline().rstrip() # base quality line\n",
    "            if len(seq) == 0:\n",
    "                break\n",
    "            sequences.append(seq)\n",
    "            qualities.append(qual)\n",
    "    return sequences, qualities"
   ]
  },
  {
   "cell_type": "code",
   "execution_count": 62,
   "id": "6447c78a",
   "metadata": {},
   "outputs": [],
   "source": [
    "sequences, _ = readFastq('ERR037900_1.first1000.fastq')"
   ]
  },
  {
   "cell_type": "code",
   "execution_count": 87,
   "id": "7b79fca6",
   "metadata": {},
   "outputs": [],
   "source": [
    "def checkGC(sequences):\n",
    "    gc = [0] * 100\n",
    "    total = [0] * 100\n",
    "    for seq in sequences:\n",
    "        for i in range(len(seq)):\n",
    "            if seq[i] == 'G' or seq[i] == 'C':\n",
    "                gc[i] += 1\n",
    "            total[i] += 1\n",
    "    for i in range(len(gc)):\n",
    "        if total[i] > 0:\n",
    "            gc[i] /= float(total[i])\n",
    "    return gc"
   ]
  },
  {
   "cell_type": "code",
   "execution_count": 88,
   "id": "2e42084a",
   "metadata": {},
   "outputs": [
    {
     "data": {
      "text/plain": [
       "[<matplotlib.lines.Line2D at 0x7ff9582b8b80>]"
      ]
     },
     "execution_count": 88,
     "metadata": {},
     "output_type": "execute_result"
    },
    {
     "data": {
      "image/png": "[encoded data removed]",
      "text/plain": [
       "<Figure size 432x288 with 1 Axes>"
      ]
     },
     "metadata": {
      "needs_background": "light"
     },
     "output_type": "display_data"
    }
   ],
   "source": [
    "import matplotlib.pyplot as plt\n",
    "gc = checkGC(sequences)\n",
    "plt.plot(range(len(gc)), gc)"
   ]
  },
  {
   "cell_type": "code",
   "execution_count": 89,
   "id": "0bb1ef0b",
   "metadata": {},
   "outputs": [
    {
     "data": {
      "text/plain": [
       "66"
      ]
     },
     "execution_count": 89,
     "metadata": {},
     "output_type": "execute_result"
    }
   ],
   "source": [
    "np.argmin(checkGC(sequences))"
   ]
  },
  {
   "cell_type": "code",
   "execution_count": null,
   "id": "7cd0ef2d",
   "metadata": {},
   "outputs": [],
   "source": []
  }
 ],
 "metadata": {
  "kernelspec": {
   "display_name": "Python 3",
   "language": "python",
   "name": "python3"
  },
  "language_info": {
   "codemirror_mode": {
    "name": "ipython",
    "version": 3
   },
   "file_extension": ".py",
   "mimetype": "text/x-python",
   "name": "python",
   "nbconvert_exporter": "python",
   "pygments_lexer": "ipython3",
   "version": "3.8.8"
  }
 },
 "nbformat": 4,
 "nbformat_minor": 5
}
